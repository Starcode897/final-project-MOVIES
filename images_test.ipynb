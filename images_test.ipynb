{
 "cells": [
  {
   "cell_type": "code",
   "execution_count": 1,
   "id": "injured-providence",
   "metadata": {},
   "outputs": [],
   "source": [
    "import os\n",
    "os.environ['KMP_DUPLICATE_LIB_OK']='True'\n",
    "\n",
    "# Dependencies\n",
    "import matplotlib.pyplot as plt\n",
    "%matplotlib inline\n",
    "\n",
    "import os\n",
    "import numpy as np\n",
    "import tensorflow as tf\n",
    "\n",
    "from tensorflow.keras.preprocessing import image\n",
    "from tensorflow.keras.applications.xception import (\n",
    "    Xception, preprocess_input, decode_predictions)"
   ]
  },
  {
   "cell_type": "code",
   "execution_count": 2,
   "id": "dependent-orleans",
   "metadata": {},
   "outputs": [],
   "source": [
    "# Load the Xception model\n",
    "# https://keras.io/api/applications/xception/\n",
    "model = Xception(\n",
    "    include_top=True,\n",
    "    weights='imagenet')"
   ]
  },
  {
   "cell_type": "code",
   "execution_count": 3,
   "id": "impressed-bidder",
   "metadata": {},
   "outputs": [],
   "source": [
    "# Default Image Size for Xception\n",
    "image_size = (299, 299)"
   ]
  },
  {
   "cell_type": "code",
   "execution_count": 6,
   "id": "suffering-camera",
   "metadata": {},
   "outputs": [],
   "source": [
    "# Load the image and resize to the input dimensions that Xception was trained with\n",
    "# \"Mix\" folder is a test folder where there are all different types of waste\n",
    "image_path = os.path.join(\"Resources\",\"Data\",\"waste_folder\",\"Garbage_classification\", \"mix\")\n",
    "# img = image.load_img(image_path, target_size=image_size)\n",
    "# plt.imshow(img)"
   ]
  },
  {
   "cell_type": "code",
   "execution_count": null,
   "id": "behavioral-gamma",
   "metadata": {},
   "outputs": [],
   "source": [
    "# Preprocess image for model prediction\n",
    "# This step handles scaling and normalization for Xception\n",
    "x = image.img_to_array(img)\n",
    "x = np.expand_dims(x, axis=0)\n",
    "x = preprocess_input(x)"
   ]
  },
  {
   "cell_type": "code",
   "execution_count": null,
   "id": "split-burton",
   "metadata": {},
   "outputs": [],
   "source": [
    "# Make predictions\n",
    "predictions = model.predict(x)\n",
    "print('Predicted:', decode_predictions(predictions, top=3)[0])\n",
    "plt.imshow(img)"
   ]
  },
  {
   "cell_type": "code",
   "execution_count": null,
   "id": "answering-integrity",
   "metadata": {},
   "outputs": [],
   "source": [
    "# # Refactor above steps into reusable function\n",
    "# def predict(image_path):\n",
    "#     \"\"\"Use Xception to label image\"\"\"\n",
    "#     img = image.load_img(image_path, target_size=image_size)\n",
    "#     x = image.img_to_array(img)\n",
    "#     x = np.expand_dims(x, axis=0)\n",
    "#     x = preprocess_input(x)\n",
    "#     predictions = model.predict(x)\n",
    "#     plt.imshow(img)\n",
    "#     print('Predicted:', decode_predictions(predictions, top=3)[0])"
   ]
  },
  {
   "cell_type": "code",
   "execution_count": null,
   "id": "numerical-reward",
   "metadata": {},
   "outputs": [],
   "source": [
    "# image_path = os.path.join(\"..\", \"Images\", \"kitten.jpg\")\n",
    "# predict(image_path)"
   ]
  }
 ],
 "metadata": {
  "kernelspec": {
   "display_name": "Python [conda env:PythonAdv] *",
   "language": "python",
   "name": "conda-env-PythonAdv-py"
  },
  "language_info": {
   "codemirror_mode": {
    "name": "ipython",
    "version": 3
   },
   "file_extension": ".py",
   "mimetype": "text/x-python",
   "name": "python",
   "nbconvert_exporter": "python",
   "pygments_lexer": "ipython3",
   "version": "3.6.12"
  }
 },
 "nbformat": 4,
 "nbformat_minor": 5
}
