{
 "cells": [
  {
   "cell_type": "code",
   "execution_count": null,
   "id": "intensive-precipitation",
   "metadata": {
    "ExecuteTime": {
     "end_time": "2021-02-27T18:58:05.347721Z",
     "start_time": "2021-02-27T18:58:03.640705Z"
    }
   },
   "outputs": [],
   "source": [
    "#Classifier takes integers and regressor takes floats\n",
    "import pandas as pd\n",
    "#import seaborn as sns\n",
    "import numpy as np\n",
    "import matplotlib.pyplot as plt\n",
    "from sklearn.ensemble import RandomForestClassifier\n",
    "from sklearn.ensemble import RandomForestRegressor\n",
    "from sklearn.svm import SVC\n",
    "from sklearn.svm import SVR\n",
    "from sklearn.model_selection import train_test_split\n",
    "from sklearn.neural_network import MLPClassifier\n",
    "from sklearn.preprocessing import StandardScaler, LabelEncoder\n",
    "from sklearn.metrics import confusion_matrix, classification_report\n",
    "from sklearn.linear_model import LinearRegression\n",
    "from sklearn.metrics import mean_squared_error, r2_score\n",
    "from sklearn.linear_model import LogisticRegression\n",
    "from sklearn.tree import DecisionTreeClassifier\n",
    "from sklearn.neighbors import KNeighborsClassifier\n",
    "from sklearn.discriminant_analysis import LinearDiscriminantAnalysis\n",
    "from sklearn.naive_bayes import GaussianNB   \n",
    "import statsmodels.api as sm\n",
    "pd.set_option('display.max_columns', None)"
   ]
  },
  {
   "cell_type": "code",
   "execution_count": null,
   "id": "mental-offset",
   "metadata": {
    "ExecuteTime": {
     "end_time": "2021-02-27T18:58:06.919413Z",
     "start_time": "2021-02-27T18:58:06.825664Z"
    }
   },
   "outputs": [],
   "source": [
    "path = \"resources/telecom_cleaned.csv\"\n",
    "df = pd.read_csv(path)\n",
    "df"
   ]
  },
  {
   "cell_type": "code",
   "execution_count": null,
   "id": "embedded-metropolitan",
   "metadata": {
    "ExecuteTime": {
     "end_time": "2021-02-27T18:58:31.475892Z",
     "start_time": "2021-02-27T18:58:30.945814Z"
    }
   },
   "outputs": [],
   "source": [
    "#inverse_transform(y) <-- How to turn labels back\n",
    "label = LabelEncoder()\n",
    "df = pd.get_dummies(df)\n"
   ]
  },
  {
   "cell_type": "code",
   "execution_count": null,
   "id": "respected-microwave",
   "metadata": {},
   "outputs": [],
   "source": [
    "#Correlation matrix\n",
    "corrMatrix = df.corr()\n",
    "corrMatrix"
   ]
  },
  {
   "cell_type": "code",
   "execution_count": null,
   "id": "bound-astrology",
   "metadata": {},
   "outputs": [],
   "source": [
    "df_test=df[['SeniorCitizen', 'tenure', 'gender_Male', 'Partner_Yes', 'Dependents_Yes', 'PhoneService_Yes', 'MultipleLines_Yes'\n",
    "           , 'InternetService_Fiber optic', 'OnlineSecurity_No', 'OnlineBackup_Yes',\n",
    "           'DeviceProtection_Yes', 'TechSupport_Yes', 'StreamingTV_Yes',\n",
    "           'StreamingMovies_Yes', 'Contract_Two year', 'PaperlessBilling_Yes']]\n",
    "df_test"
   ]
  },
  {
   "cell_type": "code",
   "execution_count": null,
   "id": "swedish-clearing",
   "metadata": {},
   "outputs": [],
   "source": [
    "corrMatrix = df_test.corr()\n",
    "corrMatrix"
   ]
  },
  {
   "cell_type": "code",
   "execution_count": null,
   "id": "reported-composer",
   "metadata": {},
   "outputs": [],
   "source": [
    "#Drop dependent columns\n",
    "# df.drop(['MonthlyCharges', 'tenure', 'gender_Female', 'Partner_No', 'Dependents_No', 'PhoneService_No',\n",
    "#             'PaperlessBilling_No']\n",
    "# X = df.drop(['MonthlyCharges', 'tenure', 'gender_Female', 'Partner_No', 'Dependents_No', 'PhoneService_No',\n",
    "#             'PaperlessBilling_No', 'MultipleLines_No', 'MultipleLines_No phone service', 'InternetService_No',\n",
    "#             'InternetService_Fiber optic', 'OnlineSecurity_No', 'OnlineSecurity_No internet service', 'OnlineBackup_No', \n",
    "#             'OnlineBackup_No internet service', 'DeviceProtection_No', 'DeviceProtection_No internet service',\n",
    "#             'TechSupport_No', 'TechSupport_No internet service', 'StreamingTV_No', 'StreamingTV_No internet service',\n",
    "#             'StreamingMovies_No', 'StreamingMovies_No internet service', 'Contract_One year', 'Contract_Two year',\n",
    "#             'PaymentMethod_Bank transfer (automatic)', 'PaymentMethod_Electronic check', 'PaymentMethod_Mailed check'], axis=1)\n",
    "\n",
    "X = df_test\n",
    "\n",
    "y = df [\"MonthlyCharges\"]\n",
    "\n",
    "X"
   ]
  },
  {
   "cell_type": "code",
   "execution_count": null,
   "id": "after-diving",
   "metadata": {
    "ExecuteTime": {
     "end_time": "2021-02-27T18:58:39.915116Z",
     "start_time": "2021-02-27T18:58:39.733782Z"
    }
   },
   "outputs": [],
   "source": [
    "X_train, X_test, y_train, y_test = train_test_split(X, y, random_state=42)\n",
    "\n"
   ]
  },
  {
   "cell_type": "code",
   "execution_count": null,
   "id": "enormous-overview",
   "metadata": {},
   "outputs": [],
   "source": [
    "#Rachel's code\n",
    "model=LinearRegression()"
   ]
  },
  {
   "cell_type": "code",
   "execution_count": null,
   "id": "naked-migration",
   "metadata": {},
   "outputs": [],
   "source": [
    "# Fit the model to the training data and calculate the scores for the training and testing data\n",
    "\n",
    "### BEGIN SOLUTION\n",
    "model.fit(X_train, y_train)\n",
    "training_score = model.score(X_train, y_train)\n",
    "testing_score = model.score(X_test, y_test)\n",
    "\n",
    "### END SOLUTION \n",
    "\n",
    "print(f\"Training Score: {training_score}\")\n",
    "print(f\"Testing Score: {testing_score}\")"
   ]
  },
  {
   "cell_type": "code",
   "execution_count": null,
   "id": "arranged-lobby",
   "metadata": {},
   "outputs": [],
   "source": [
    "# Plot the Residuals for the Training and Testing data\n",
    "\n",
    "### BEGIN SOLUTION\n",
    "plt.scatter(model.predict(X_train), model.predict(X_train) - y_train, c=\"blue\", label=\"Training Data\")\n",
    "plt.scatter(model.predict(X_test), model.predict(X_test) - y_test, c=\"orange\", label=\"Testing Data\")\n",
    "plt.legend()\n",
    "plt.hlines(y=0, xmin=y.min(), xmax=y.max())\n",
    "plt.title(\"Residual Plot\")\n",
    "### END SOLUTION"
   ]
  },
  {
   "cell_type": "code",
   "execution_count": null,
   "id": "verified-classic",
   "metadata": {},
   "outputs": [],
   "source": [
    "# #DROPPING DeviceProtection_No internet service to test\n",
    "# df3 = df2.drop(columns=['DeviceProtection_No internet service'])\n"
   ]
  },
  {
   "cell_type": "code",
   "execution_count": null,
   "id": "pharmaceutical-origin",
   "metadata": {},
   "outputs": [],
   "source": [
    "def calculate_vif(df):\n",
    "    vif_df = pd.DataFrame(columns = ['Var', 'Vif'])\n",
    "    x_var_names = df.columns\n",
    "    for i in range(0, x_var_names.shape[0]):\n",
    "        y = df[x_var_names[i]]\n",
    "        x = df[x_var_names.drop([x_var_names[i]])]\n",
    "        r_squared = sm.OLS(y,x).fit().rsquared\n",
    "        vif = round(1/(1-r_squared),2)\n",
    "        vif_df.loc[i] = [x_var_names[i], vif]\n",
    "    return vif_df.sort_values(by = 'Vif', axis = 0, ascending=False, inplace=False)\n",
    "\n",
    "# X=df.drop(['Salary'],axis=1)\n",
    "calculate_vif(X)"
   ]
  },
  {
   "cell_type": "code",
   "execution_count": null,
   "id": "tired-mainland",
   "metadata": {},
   "outputs": [],
   "source": []
  },
  {
   "cell_type": "code",
   "execution_count": null,
   "id": "expanded-vitamin",
   "metadata": {
    "ExecuteTime": {
     "end_time": "2021-02-27T18:58:42.271687Z",
     "start_time": "2021-02-27T18:58:40.864140Z"
    }
   },
   "outputs": [],
   "source": [
    "sc =  StandardScaler()\n",
    "X_scaler = sc.fit(X_train)\n",
    "X_train = X_scaler.transform(X_train)\n",
    "X_test = X_scaler.transform(X_test)\n",
    "\n",
    "X_train"
   ]
  },
  {
   "cell_type": "markdown",
   "id": "economic-opinion",
   "metadata": {},
   "source": [
    "# Linear Regression"
   ]
  },
  {
   "cell_type": "code",
   "execution_count": null,
   "id": "varying-variation",
   "metadata": {
    "ExecuteTime": {
     "end_time": "2021-02-27T18:58:59.615644Z",
     "start_time": "2021-02-27T18:58:46.271385Z"
    }
   },
   "outputs": [],
   "source": [
    "line = LinearRegression()\n",
    "line.fit(X_train, y_train)\n",
    "\n",
    "\n",
    "pred_line = line.predict(X_train)\n",
    "mse = mean_squared_error(y_train, pred_line)\n",
    "r2 = r2_score(y_train, pred_line)\n",
    "\n",
    "print(f\"Mean Squared Error (MSE): {mse}\")\n",
    "print(f\"R-squared (R2 ): {r2}\")"
   ]
  },
  {
   "cell_type": "code",
   "execution_count": null,
   "id": "alleged-structure",
   "metadata": {
    "ExecuteTime": {
     "end_time": "2021-02-27T18:59:03.495039Z",
     "start_time": "2021-02-27T18:59:03.438147Z"
    }
   },
   "outputs": [],
   "source": [
    "line.score(X_test, y_test)"
   ]
  },
  {
   "cell_type": "code",
   "execution_count": null,
   "id": "driven-chair",
   "metadata": {},
   "outputs": [],
   "source": []
  },
  {
   "cell_type": "code",
   "execution_count": null,
   "id": "numerical-equality",
   "metadata": {},
   "outputs": [],
   "source": []
  },
  {
   "cell_type": "code",
   "execution_count": null,
   "id": "excessive-designer",
   "metadata": {},
   "outputs": [],
   "source": []
  },
  {
   "cell_type": "code",
   "execution_count": null,
   "id": "funded-carroll",
   "metadata": {},
   "outputs": [],
   "source": []
  }
 ],
 "metadata": {
  "kernelspec": {
   "display_name": "Python 3",
   "language": "python",
   "name": "python3"
  },
  "language_info": {
   "codemirror_mode": {
    "name": "ipython",
    "version": 3
   },
   "file_extension": ".py",
   "mimetype": "text/x-python",
   "name": "python",
   "nbconvert_exporter": "python",
   "pygments_lexer": "ipython3",
   "version": "3.6.12"
  },
  "toc": {
   "base_numbering": 1,
   "nav_menu": {},
   "number_sections": true,
   "sideBar": true,
   "skip_h1_title": false,
   "title_cell": "Table of Contents",
   "title_sidebar": "Contents",
   "toc_cell": false,
   "toc_position": {},
   "toc_section_display": true,
   "toc_window_display": false
  },
  "varInspector": {
   "cols": {
    "lenName": 16,
    "lenType": 16,
    "lenVar": 40
   },
   "kernels_config": {
    "python": {
     "delete_cmd_postfix": "",
     "delete_cmd_prefix": "del ",
     "library": "var_list.py",
     "varRefreshCmd": "print(var_dic_list())"
    },
    "r": {
     "delete_cmd_postfix": ") ",
     "delete_cmd_prefix": "rm(",
     "library": "var_list.r",
     "varRefreshCmd": "cat(var_dic_list()) "
    }
   },
   "types_to_exclude": [
    "module",
    "function",
    "builtin_function_or_method",
    "instance",
    "_Feature"
   ],
   "window_display": false
  }
 },
 "nbformat": 4,
 "nbformat_minor": 5
}
